{
 "cells": [
  {
   "cell_type": "markdown",
   "metadata": {},
   "source": [
    "# Classroom 4 - Basic machine learning with ```Pytorch```"
   ]
  },
  {
   "cell_type": "markdown",
   "metadata": {},
   "source": [
    "The first thing we need to do for this workshops is install both ```pytorch``` and ```scikit-learn```, along with some other packages we need for this week. You may have already installed some of this for previous classes (if so, some of this will be skipped).\n",
    "\n",
    "```\n",
    "pip install --upgrade pip\n",
    "pip install torch scikit-learn matplotlib pandas\n",
    "```"
   ]
  },
  {
   "cell_type": "markdown",
   "metadata": {},
   "source": [
    "__Load packages__"
   ]
  },
  {
   "cell_type": "code",
   "execution_count": 209,
   "metadata": {},
   "outputs": [],
   "source": [
    "# system tools\n",
    "import os\n",
    "\n",
    "# pytorch\n",
    "import torch\n",
    "from torch import nn\n",
    "\n",
    "# pandas\n",
    "import pandas as pd\n",
    "\n",
    "# scikit-learn\n",
    "from sklearn.model_selection import train_test_split\n",
    "from sklearn.metrics import classification_report, accuracy_score\n",
    "from sklearn.feature_extraction.text import CountVectorizer, TfidfVectorizer\n",
    "\n",
    "# matplotlib\n",
    "import matplotlib.pyplot as plt\n",
    "\n",
    "# library for symbolic computations (we use it to plot functions)\n",
    "from sympy import symbols\n",
    "from sympy.plotting import plot\n",
    "\n",
    "# numpy\n",
    "import numpy as np\n",
    "\n",
    "# huggingface datasets\n",
    "from datasets import load_dataset"
   ]
  },
  {
   "cell_type": "markdown",
   "metadata": {},
   "source": [
    "__Creating a tensor__\n",
    "\n",
    "A tensor is a data structure similar to numpy arrays, it basically stores something like matrices, but in more than two dimensions. Different from numpy, tensors from Pytorch have handy characteristics that make it possible to easily compute and store gradients, which is useful for machine learning optimization."
   ]
  },
  {
   "cell_type": "code",
   "execution_count": 210,
   "metadata": {},
   "outputs": [
    {
     "name": "stdout",
     "output_type": "stream",
     "text": [
      "<class 'torch.Tensor'>\n"
     ]
    }
   ],
   "source": [
    "x_tensor = torch.tensor([[1., -1.], \n",
    "                         [1., -1.]])\n",
    "print(type(x_tensor))"
   ]
  },
  {
   "cell_type": "code",
   "execution_count": 211,
   "metadata": {},
   "outputs": [
    {
     "name": "stdout",
     "output_type": "stream",
     "text": [
      "tensor([[ 1., -1.],\n",
      "        [ 1., -1.]])\n"
     ]
    }
   ],
   "source": [
    "print(x_tensor)"
   ]
  },
  {
   "cell_type": "markdown",
   "metadata": {},
   "source": [
    "There are different ways to create tensors (from scratch, or by \"tensorifying\" other data structures, such as arrays).\n",
    "Take a look at the documentation for more details: https://pytorch.org/tutorials/beginner/introyt/tensors_deeper_tutorial.html"
   ]
  },
  {
   "cell_type": "markdown",
   "metadata": {},
   "source": [
    "__Tensor to numpy array__\n",
    "\n",
    "Tensors can easily be transformed into numpy arrays (e.g., once you're done with training a neural network), which may be easier to use with tools from scientific computing libraries such as scikit-learn or scipy."
   ]
  },
  {
   "cell_type": "code",
   "execution_count": 212,
   "metadata": {},
   "outputs": [
    {
     "name": "stdout",
     "output_type": "stream",
     "text": [
      "<class 'numpy.ndarray'>\n"
     ]
    }
   ],
   "source": [
    "# tensor to numpy\n",
    "x_array = x_tensor.numpy() # transform tensor to numpy array\n",
    "print(type(x_array))"
   ]
  },
  {
   "cell_type": "markdown",
   "metadata": {},
   "source": [
    "__And back again__"
   ]
  },
  {
   "cell_type": "code",
   "execution_count": 213,
   "metadata": {},
   "outputs": [
    {
     "name": "stdout",
     "output_type": "stream",
     "text": [
      "<class 'torch.Tensor'>\n"
     ]
    }
   ],
   "source": [
    "# numpy to tensor\n",
    "x_tensor2 =torch.tensor(x_array)\n",
    "print(type(x_tensor2))"
   ]
  },
  {
   "cell_type": "code",
   "execution_count": 214,
   "metadata": {},
   "outputs": [
    {
     "name": "stdout",
     "output_type": "stream",
     "text": [
      "tensor([[True, True],\n",
      "        [True, True]])\n"
     ]
    }
   ],
   "source": [
    "# check for identity\n",
    "print(x_tensor2 == x_tensor)"
   ]
  },
  {
   "cell_type": "markdown",
   "metadata": {},
   "source": [
    "As you can see, the data has not been changed by these transformation: all that has changed is the data structure that the data is stored in."
   ]
  },
  {
   "cell_type": "markdown",
   "metadata": {},
   "source": [
    "## Stochastic gradient descent"
   ]
  },
  {
   "cell_type": "markdown",
   "metadata": {},
   "source": [
    "Remember when we talked about loss functions and gradient descent in class? The goal there was to find the value of the parameters (our ```x```) which corresponds to the lowest possible value of the loss function (our ```y```). This can be done through a process called gradient descent, which involves:\n",
    "1. starting from a random initial value for x (the point at which we start measuring the slope)\n",
    "2. computing the derivative of the function (`d_x`) for that value\n",
    "3. computing a new value of x, with this formula: ```x_new = x_old - learning_rate * d_x```\n",
    "4. continuing, until we find an x which yields very low values of y.\n",
    "\n",
    "Let's try this out for a polynomial function (could be anything really, but for this one we know it has a minimum).\n",
    "\n",
    "Our function will be: `y = x**2 - x*3 + 2`. Let's see how our function looks:"
   ]
  },
  {
   "cell_type": "code",
   "execution_count": 215,
   "metadata": {},
   "outputs": [
    {
     "data": {
      "image/png": "[encoded data removed]",
      "text/plain": [
       "<Figure size 640x480 with 1 Axes>"
      ]
     },
     "metadata": {},
     "output_type": "display_data"
    }
   ],
   "source": [
    "x = symbols('x')\n",
    "p1 = plot(x**2 - 3*x + 2, show=False, xlim=(-10,10), ylim=(-2,60))\n",
    "p1.show()"
   ]
  },
  {
   "cell_type": "markdown",
   "metadata": {},
   "source": [
    "Let's begin by creating an initial value for ```x``` and defining the function ```y```.\n",
    "The goal is to find the _minimum_ value of y, i.e. in this case the turning point of the function."
   ]
  },
  {
   "cell_type": "code",
   "execution_count": 216,
   "metadata": {},
   "outputs": [],
   "source": [
    "x = torch.tensor([3.], \n",
    "                 requires_grad=True) # requires_grad=True means that we want to compute gradients with respect to this variable"
   ]
  },
  {
   "cell_type": "code",
   "execution_count": 217,
   "metadata": {},
   "outputs": [
    {
     "name": "stdout",
     "output_type": "stream",
     "text": [
      "tensor([2.], grad_fn=<AddBackward0>)\n"
     ]
    }
   ],
   "source": [
    "y = x**2 - 3*x + 2\n",
    "print(y)"
   ]
  },
  {
   "cell_type": "markdown",
   "metadata": {},
   "source": [
    "The output of this is the value of our function for `x=3`. To find lower values of y, let's perform gradient descent. In PyTorch, we can do so using optimizers (https://pytorch.org/docs/stable/optim.html), which implement multiple optimization algorithms including gradient descent (`SGD` stands for stochastic gradient descent)."
   ]
  },
  {
   "cell_type": "markdown",
   "metadata": {},
   "source": [
    "__Create SGD optimizer__\n",
    "\n",
    "In doing so, we also set a learning rate, which is one of the parameters for the optimizer."
   ]
  },
  {
   "cell_type": "code",
   "execution_count": 218,
   "metadata": {},
   "outputs": [],
   "source": [
    "optimizer = torch.optim.SGD([x],     # starting value: the variable we want to optimize\n",
    "                            lr=0.01) # learning rate\n"
   ]
  },
  {
   "cell_type": "markdown",
   "metadata": {},
   "source": [
    "__Calculate the gradient__\n",
    "\n",
    "Let's compute the derivative of our function `y = f(x)` for our current value of `x`.\n",
    "\n",
    "We do so by running a _backwards pass_ which computes the gradient of the function ```y``` for a given value ```x```."
   ]
  },
  {
   "cell_type": "code",
   "execution_count": 219,
   "metadata": {},
   "outputs": [],
   "source": [
    "y.backward() # backward: compute gradients with respect to all variables that have requires_grad=True\n",
    "             #"
   ]
  },
  {
   "cell_type": "code",
   "execution_count": 220,
   "metadata": {},
   "outputs": [
    {
     "name": "stdout",
     "output_type": "stream",
     "text": [
      "tensor([3.])\n"
     ]
    }
   ],
   "source": [
    "print(x.grad) # examine the resulting gradient"
   ]
  },
  {
   "cell_type": "markdown",
   "metadata": {},
   "source": [
    "The gradient for x is the value 3"
   ]
  },
  {
   "cell_type": "markdown",
   "metadata": {},
   "source": [
    "__Make a step in the right direction__\n",
    "\n",
    "Using information on the gradient, the optimizer will update the value of `x` based on the update equation (`x_new = x_old - learning_rate * d_new`).\n",
    "Let's first manually check what the new value of x should be."
   ]
  },
  {
   "cell_type": "code",
   "execution_count": 221,
   "metadata": {},
   "outputs": [
    {
     "data": {
      "text/plain": [
       "tensor([2.9970])"
      ]
     },
     "execution_count": 221,
     "metadata": {},
     "output_type": "execute_result"
    }
   ],
   "source": [
    "3 - 0.001 * x.grad # manuel check of the gradient descent step"
   ]
  },
  {
   "cell_type": "markdown",
   "metadata": {},
   "source": [
    "Now let's do this with the optimizer, which is how you would normally do that when training a network."
   ]
  },
  {
   "cell_type": "code",
   "execution_count": 222,
   "metadata": {},
   "outputs": [],
   "source": [
    "# step in the direction to minimize y\n",
    "optimizer.step() # step in the direction to minimize y - this time using the optimizer"
   ]
  },
  {
   "cell_type": "code",
   "execution_count": 223,
   "metadata": {},
   "outputs": [],
   "source": [
    "# set the gradient to zero. (This is a bit weird but required)\n",
    "optimizer.zero_grad()"
   ]
  },
  {
   "cell_type": "code",
   "execution_count": 224,
   "metadata": {},
   "outputs": [
    {
     "name": "stdout",
     "output_type": "stream",
     "text": [
      "tensor([2.9700], requires_grad=True)\n"
     ]
    }
   ],
   "source": [
    "print(x)"
   ]
  },
  {
   "cell_type": "markdown",
   "metadata": {},
   "source": [
    "The optimizer has computed the new value of x. Let's check that this corresponds to a better value of `y`, compared to the previous `x`."
   ]
  },
  {
   "cell_type": "code",
   "execution_count": 225,
   "metadata": {},
   "outputs": [
    {
     "data": {
      "text/plain": [
       "tensor([1.9109], grad_fn=<AddBackward0>)"
      ]
     },
     "execution_count": 225,
     "metadata": {},
     "output_type": "execute_result"
    }
   ],
   "source": [
    "x**2 - 3*x + 2"
   ]
  },
  {
   "cell_type": "markdown",
   "metadata": {},
   "source": [
    "It does, this is working as desired... but can we do better?"
   ]
  },
  {
   "cell_type": "markdown",
   "metadata": {},
   "source": [
    "__Run this for 1000 steps__\n",
    "\n",
    "We can of course do better than this (we know that the minimum for y is around zero), so let's see what happens if we run these updates 1000 times."
   ]
  },
  {
   "cell_type": "code",
   "execution_count": 226,
   "metadata": {},
   "outputs": [
    {
     "name": "stdout",
     "output_type": "stream",
     "text": [
      "tensor([2.9700], requires_grad=True)\n",
      "tensor([2.9406], requires_grad=True)\n",
      "tensor([2.9118], requires_grad=True)\n",
      "tensor([2.8836], requires_grad=True)\n",
      "tensor([2.8559], requires_grad=True)\n",
      "tensor([2.8288], requires_grad=True)\n",
      "tensor([2.8022], requires_grad=True)\n",
      "tensor([2.7761], requires_grad=True)\n",
      "tensor([2.7506], requires_grad=True)\n",
      "tensor([2.7256], requires_grad=True)\n",
      "tensor([2.7011], requires_grad=True)\n",
      "tensor([2.6771], requires_grad=True)\n",
      "tensor([2.6535], requires_grad=True)\n",
      "tensor([2.6305], requires_grad=True)\n",
      "tensor([2.6079], requires_grad=True)\n",
      "tensor([2.5857], requires_grad=True)\n",
      "tensor([2.5640], requires_grad=True)\n",
      "tensor([2.5427], requires_grad=True)\n",
      "tensor([2.5218], requires_grad=True)\n",
      "tensor([2.5014], requires_grad=True)\n",
      "tensor([2.4814], requires_grad=True)\n",
      "tensor([2.4618], requires_grad=True)\n",
      "tensor([2.4425], requires_grad=True)\n",
      "tensor([2.4237], requires_grad=True)\n",
      "tensor([2.4052], requires_grad=True)\n",
      "tensor([2.3871], requires_grad=True)\n",
      "tensor([2.3694], requires_grad=True)\n",
      "tensor([2.3520], requires_grad=True)\n",
      "tensor([2.3349], requires_grad=True)\n",
      "tensor([2.3182], requires_grad=True)\n",
      "tensor([2.3019], requires_grad=True)\n",
      "tensor([2.2858], requires_grad=True)\n",
      "tensor([2.2701], requires_grad=True)\n",
      "tensor([2.2547], requires_grad=True)\n",
      "tensor([2.2396], requires_grad=True)\n",
      "tensor([2.2248], requires_grad=True)\n",
      "tensor([2.2103], requires_grad=True)\n",
      "tensor([2.1961], requires_grad=True)\n",
      "tensor([2.1822], requires_grad=True)\n",
      "tensor([2.1686], requires_grad=True)\n",
      "tensor([2.1552], requires_grad=True)\n",
      "tensor([2.1421], requires_grad=True)\n",
      "tensor([2.1292], requires_grad=True)\n",
      "tensor([2.1167], requires_grad=True)\n",
      "tensor([2.1043], requires_grad=True)\n",
      "tensor([2.0922], requires_grad=True)\n",
      "tensor([2.0804], requires_grad=True)\n",
      "tensor([2.0688], requires_grad=True)\n",
      "tensor([2.0574], requires_grad=True)\n",
      "tensor([2.0463], requires_grad=True)\n",
      "tensor([2.0353], requires_grad=True)\n",
      "tensor([2.0246], requires_grad=True)\n",
      "tensor([2.0141], requires_grad=True)\n",
      "tensor([2.0038], requires_grad=True)\n",
      "tensor([1.9938], requires_grad=True)\n",
      "tensor([1.9839], requires_grad=True)\n",
      "tensor([1.9742], requires_grad=True)\n",
      "tensor([1.9647], requires_grad=True)\n",
      "tensor([1.9554], requires_grad=True)\n",
      "tensor([1.9463], requires_grad=True)\n",
      "tensor([1.9374], requires_grad=True)\n",
      "tensor([1.9287], requires_grad=True)\n",
      "tensor([1.9201], requires_grad=True)\n",
      "tensor([1.9117], requires_grad=True)\n",
      "tensor([1.9034], requires_grad=True)\n",
      "tensor([1.8954], requires_grad=True)\n",
      "tensor([1.8875], requires_grad=True)\n",
      "tensor([1.8797], requires_grad=True)\n",
      "tensor([1.8721], requires_grad=True)\n",
      "tensor([1.8647], requires_grad=True)\n",
      "tensor([1.8574], requires_grad=True)\n",
      "tensor([1.8502], requires_grad=True)\n",
      "tensor([1.8432], requires_grad=True)\n",
      "tensor([1.8364], requires_grad=True)\n",
      "tensor([1.8296], requires_grad=True)\n",
      "tensor([1.8231], requires_grad=True)\n",
      "tensor([1.8166], requires_grad=True)\n",
      "tensor([1.8103], requires_grad=True)\n",
      "tensor([1.8041], requires_grad=True)\n",
      "tensor([1.7980], requires_grad=True)\n",
      "tensor([1.7920], requires_grad=True)\n",
      "tensor([1.7862], requires_grad=True)\n",
      "tensor([1.7805], requires_grad=True)\n",
      "tensor([1.7748], requires_grad=True)\n",
      "tensor([1.7693], requires_grad=True)\n",
      "tensor([1.7640], requires_grad=True)\n",
      "tensor([1.7587], requires_grad=True)\n",
      "tensor([1.7535], requires_grad=True)\n",
      "tensor([1.7484], requires_grad=True)\n",
      "tensor([1.7435], requires_grad=True)\n",
      "tensor([1.7386], requires_grad=True)\n",
      "tensor([1.7338], requires_grad=True)\n",
      "tensor([1.7291], requires_grad=True)\n",
      "tensor([1.7246], requires_grad=True)\n",
      "tensor([1.7201], requires_grad=True)\n",
      "tensor([1.7157], requires_grad=True)\n",
      "tensor([1.7114], requires_grad=True)\n",
      "tensor([1.7071], requires_grad=True)\n",
      "tensor([1.7030], requires_grad=True)\n",
      "tensor([1.6989], requires_grad=True)\n",
      "tensor([1.6950], requires_grad=True)\n",
      "tensor([1.6911], requires_grad=True)\n",
      "tensor([1.6872], requires_grad=True)\n",
      "tensor([1.6835], requires_grad=True)\n",
      "tensor([1.6798], requires_grad=True)\n",
      "tensor([1.6762], requires_grad=True)\n",
      "tensor([1.6727], requires_grad=True)\n",
      "tensor([1.6692], requires_grad=True)\n",
      "tensor([1.6659], requires_grad=True)\n",
      "tensor([1.6625], requires_grad=True)\n",
      "tensor([1.6593], requires_grad=True)\n",
      "tensor([1.6561], requires_grad=True)\n",
      "tensor([1.6530], requires_grad=True)\n",
      "tensor([1.6499], requires_grad=True)\n",
      "tensor([1.6469], requires_grad=True)\n",
      "tensor([1.6440], requires_grad=True)\n",
      "tensor([1.6411], requires_grad=True)\n",
      "tensor([1.6383], requires_grad=True)\n",
      "tensor([1.6355], requires_grad=True)\n",
      "tensor([1.6328], requires_grad=True)\n",
      "tensor([1.6302], requires_grad=True)\n",
      "tensor([1.6275], requires_grad=True)\n",
      "tensor([1.6250], requires_grad=True)\n",
      "tensor([1.6225], requires_grad=True)\n",
      "tensor([1.6200], requires_grad=True)\n",
      "tensor([1.6176], requires_grad=True)\n",
      "tensor([1.6153], requires_grad=True)\n",
      "tensor([1.6130], requires_grad=True)\n",
      "tensor([1.6107], requires_grad=True)\n",
      "tensor([1.6085], requires_grad=True)\n",
      "tensor([1.6063], requires_grad=True)\n",
      "tensor([1.6042], requires_grad=True)\n",
      "tensor([1.6021], requires_grad=True)\n",
      "tensor([1.6001], requires_grad=True)\n",
      "tensor([1.5981], requires_grad=True)\n",
      "tensor([1.5961], requires_grad=True)\n",
      "tensor([1.5942], requires_grad=True)\n",
      "tensor([1.5923], requires_grad=True)\n",
      "tensor([1.5905], requires_grad=True)\n",
      "tensor([1.5887], requires_grad=True)\n",
      "tensor([1.5869], requires_grad=True)\n",
      "tensor([1.5852], requires_grad=True)\n",
      "tensor([1.5834], requires_grad=True)\n",
      "tensor([1.5818], requires_grad=True)\n",
      "tensor([1.5801], requires_grad=True)\n",
      "tensor([1.5785], requires_grad=True)\n",
      "tensor([1.5770], requires_grad=True)\n",
      "tensor([1.5754], requires_grad=True)\n",
      "tensor([1.5739], requires_grad=True)\n",
      "tensor([1.5724], requires_grad=True)\n",
      "tensor([1.5710], requires_grad=True)\n",
      "tensor([1.5696], requires_grad=True)\n",
      "tensor([1.5682], requires_grad=True)\n",
      "tensor([1.5668], requires_grad=True)\n",
      "tensor([1.5655], requires_grad=True)\n",
      "tensor([1.5642], requires_grad=True)\n",
      "tensor([1.5629], requires_grad=True)\n",
      "tensor([1.5616], requires_grad=True)\n",
      "tensor([1.5604], requires_grad=True)\n",
      "tensor([1.5592], requires_grad=True)\n",
      "tensor([1.5580], requires_grad=True)\n",
      "tensor([1.5568], requires_grad=True)\n",
      "tensor([1.5557], requires_grad=True)\n",
      "tensor([1.5546], requires_grad=True)\n",
      "tensor([1.5535], requires_grad=True)\n",
      "tensor([1.5524], requires_grad=True)\n",
      "tensor([1.5514], requires_grad=True)\n",
      "tensor([1.5504], requires_grad=True)\n",
      "tensor([1.5494], requires_grad=True)\n",
      "tensor([1.5484], requires_grad=True)\n",
      "tensor([1.5474], requires_grad=True)\n",
      "tensor([1.5464], requires_grad=True)\n",
      "tensor([1.5455], requires_grad=True)\n",
      "tensor([1.5446], requires_grad=True)\n",
      "tensor([1.5437], requires_grad=True)\n",
      "tensor([1.5428], requires_grad=True)\n",
      "tensor([1.5420], requires_grad=True)\n",
      "tensor([1.5411], requires_grad=True)\n",
      "tensor([1.5403], requires_grad=True)\n",
      "tensor([1.5395], requires_grad=True)\n",
      "tensor([1.5387], requires_grad=True)\n",
      "tensor([1.5380], requires_grad=True)\n",
      "tensor([1.5372], requires_grad=True)\n",
      "tensor([1.5364], requires_grad=True)\n",
      "tensor([1.5357], requires_grad=True)\n",
      "tensor([1.5350], requires_grad=True)\n",
      "tensor([1.5343], requires_grad=True)\n",
      "tensor([1.5336], requires_grad=True)\n",
      "tensor([1.5329], requires_grad=True)\n",
      "tensor([1.5323], requires_grad=True)\n",
      "tensor([1.5316], requires_grad=True)\n",
      "tensor([1.5310], requires_grad=True)\n",
      "tensor([1.5304], requires_grad=True)\n",
      "tensor([1.5298], requires_grad=True)\n",
      "tensor([1.5292], requires_grad=True)\n",
      "tensor([1.5286], requires_grad=True)\n",
      "tensor([1.5280], requires_grad=True)\n",
      "tensor([1.5275], requires_grad=True)\n",
      "tensor([1.5269], requires_grad=True)\n",
      "tensor([1.5264], requires_grad=True)\n",
      "tensor([1.5259], requires_grad=True)\n",
      "tensor([1.5253], requires_grad=True)\n",
      "tensor([1.5248], requires_grad=True)\n",
      "tensor([1.5243], requires_grad=True)\n",
      "tensor([1.5238], requires_grad=True)\n",
      "tensor([1.5234], requires_grad=True)\n",
      "tensor([1.5229], requires_grad=True)\n",
      "tensor([1.5224], requires_grad=True)\n",
      "tensor([1.5220], requires_grad=True)\n",
      "tensor([1.5216], requires_grad=True)\n",
      "tensor([1.5211], requires_grad=True)\n",
      "tensor([1.5207], requires_grad=True)\n",
      "tensor([1.5203], requires_grad=True)\n",
      "tensor([1.5199], requires_grad=True)\n",
      "tensor([1.5195], requires_grad=True)\n",
      "tensor([1.5191], requires_grad=True)\n",
      "tensor([1.5187], requires_grad=True)\n",
      "tensor([1.5183], requires_grad=True)\n",
      "tensor([1.5180], requires_grad=True)\n",
      "tensor([1.5176], requires_grad=True)\n",
      "tensor([1.5173], requires_grad=True)\n",
      "tensor([1.5169], requires_grad=True)\n",
      "tensor([1.5166], requires_grad=True)\n",
      "tensor([1.5162], requires_grad=True)\n",
      "tensor([1.5159], requires_grad=True)\n",
      "tensor([1.5156], requires_grad=True)\n",
      "tensor([1.5153], requires_grad=True)\n",
      "tensor([1.5150], requires_grad=True)\n",
      "tensor([1.5147], requires_grad=True)\n",
      "tensor([1.5144], requires_grad=True)\n",
      "tensor([1.5141], requires_grad=True)\n",
      "tensor([1.5138], requires_grad=True)\n",
      "tensor([1.5135], requires_grad=True)\n",
      "tensor([1.5133], requires_grad=True)\n",
      "tensor([1.5130], requires_grad=True)\n",
      "tensor([1.5127], requires_grad=True)\n",
      "tensor([1.5125], requires_grad=True)\n",
      "tensor([1.5122], requires_grad=True)\n",
      "tensor([1.5120], requires_grad=True)\n",
      "tensor([1.5118], requires_grad=True)\n",
      "tensor([1.5115], requires_grad=True)\n",
      "tensor([1.5113], requires_grad=True)\n",
      "tensor([1.5111], requires_grad=True)\n",
      "tensor([1.5108], requires_grad=True)\n",
      "tensor([1.5106], requires_grad=True)\n",
      "tensor([1.5104], requires_grad=True)\n",
      "tensor([1.5102], requires_grad=True)\n",
      "tensor([1.5100], requires_grad=True)\n",
      "tensor([1.5098], requires_grad=True)\n",
      "tensor([1.5096], requires_grad=True)\n",
      "tensor([1.5094], requires_grad=True)\n",
      "tensor([1.5092], requires_grad=True)\n",
      "tensor([1.5090], requires_grad=True)\n",
      "tensor([1.5089], requires_grad=True)\n",
      "tensor([1.5087], requires_grad=True)\n",
      "tensor([1.5085], requires_grad=True)\n",
      "tensor([1.5083], requires_grad=True)\n",
      "tensor([1.5082], requires_grad=True)\n",
      "tensor([1.5080], requires_grad=True)\n",
      "tensor([1.5078], requires_grad=True)\n",
      "tensor([1.5077], requires_grad=True)\n",
      "tensor([1.5075], requires_grad=True)\n",
      "tensor([1.5074], requires_grad=True)\n",
      "tensor([1.5072], requires_grad=True)\n",
      "tensor([1.5071], requires_grad=True)\n",
      "tensor([1.5070], requires_grad=True)\n",
      "tensor([1.5068], requires_grad=True)\n",
      "tensor([1.5067], requires_grad=True)\n",
      "tensor([1.5065], requires_grad=True)\n",
      "tensor([1.5064], requires_grad=True)\n",
      "tensor([1.5063], requires_grad=True)\n",
      "tensor([1.5062], requires_grad=True)\n",
      "tensor([1.5060], requires_grad=True)\n",
      "tensor([1.5059], requires_grad=True)\n",
      "tensor([1.5058], requires_grad=True)\n",
      "tensor([1.5057], requires_grad=True)\n",
      "tensor([1.5056], requires_grad=True)\n",
      "tensor([1.5055], requires_grad=True)\n",
      "tensor([1.5053], requires_grad=True)\n",
      "tensor([1.5052], requires_grad=True)\n",
      "tensor([1.5051], requires_grad=True)\n",
      "tensor([1.5050], requires_grad=True)\n",
      "tensor([1.5049], requires_grad=True)\n",
      "tensor([1.5048], requires_grad=True)\n",
      "tensor([1.5047], requires_grad=True)\n",
      "tensor([1.5046], requires_grad=True)\n",
      "tensor([1.5045], requires_grad=True)\n",
      "tensor([1.5045], requires_grad=True)\n",
      "tensor([1.5044], requires_grad=True)\n",
      "tensor([1.5043], requires_grad=True)\n",
      "tensor([1.5042], requires_grad=True)\n",
      "tensor([1.5041], requires_grad=True)\n",
      "tensor([1.5040], requires_grad=True)\n",
      "tensor([1.5039], requires_grad=True)\n",
      "tensor([1.5039], requires_grad=True)\n",
      "tensor([1.5038], requires_grad=True)\n",
      "tensor([1.5037], requires_grad=True)\n",
      "tensor([1.5036], requires_grad=True)\n",
      "tensor([1.5036], requires_grad=True)\n",
      "tensor([1.5035], requires_grad=True)\n",
      "tensor([1.5034], requires_grad=True)\n",
      "tensor([1.5034], requires_grad=True)\n",
      "tensor([1.5033], requires_grad=True)\n",
      "tensor([1.5032], requires_grad=True)\n",
      "tensor([1.5032], requires_grad=True)\n",
      "tensor([1.5031], requires_grad=True)\n",
      "tensor([1.5030], requires_grad=True)\n",
      "tensor([1.5030], requires_grad=True)\n",
      "tensor([1.5029], requires_grad=True)\n",
      "tensor([1.5029], requires_grad=True)\n",
      "tensor([1.5028], requires_grad=True)\n",
      "tensor([1.5027], requires_grad=True)\n",
      "tensor([1.5027], requires_grad=True)\n",
      "tensor([1.5026], requires_grad=True)\n",
      "tensor([1.5026], requires_grad=True)\n",
      "tensor([1.5025], requires_grad=True)\n",
      "tensor([1.5025], requires_grad=True)\n",
      "tensor([1.5024], requires_grad=True)\n",
      "tensor([1.5024], requires_grad=True)\n",
      "tensor([1.5023], requires_grad=True)\n",
      "tensor([1.5023], requires_grad=True)\n",
      "tensor([1.5022], requires_grad=True)\n",
      "tensor([1.5022], requires_grad=True)\n",
      "tensor([1.5022], requires_grad=True)\n",
      "tensor([1.5021], requires_grad=True)\n",
      "tensor([1.5021], requires_grad=True)\n",
      "tensor([1.5020], requires_grad=True)\n",
      "tensor([1.5020], requires_grad=True)\n",
      "tensor([1.5019], requires_grad=True)\n",
      "tensor([1.5019], requires_grad=True)\n",
      "tensor([1.5019], requires_grad=True)\n",
      "tensor([1.5018], requires_grad=True)\n",
      "tensor([1.5018], requires_grad=True)\n",
      "tensor([1.5018], requires_grad=True)\n",
      "tensor([1.5017], requires_grad=True)\n",
      "tensor([1.5017], requires_grad=True)\n",
      "tensor([1.5017], requires_grad=True)\n",
      "tensor([1.5016], requires_grad=True)\n",
      "tensor([1.5016], requires_grad=True)\n",
      "tensor([1.5016], requires_grad=True)\n",
      "tensor([1.5015], requires_grad=True)\n",
      "tensor([1.5015], requires_grad=True)\n",
      "tensor([1.5015], requires_grad=True)\n",
      "tensor([1.5014], requires_grad=True)\n",
      "tensor([1.5014], requires_grad=True)\n",
      "tensor([1.5014], requires_grad=True)\n",
      "tensor([1.5014], requires_grad=True)\n",
      "tensor([1.5013], requires_grad=True)\n",
      "tensor([1.5013], requires_grad=True)\n",
      "tensor([1.5013], requires_grad=True)\n",
      "tensor([1.5012], requires_grad=True)\n",
      "tensor([1.5012], requires_grad=True)\n",
      "tensor([1.5012], requires_grad=True)\n",
      "tensor([1.5012], requires_grad=True)\n",
      "tensor([1.5012], requires_grad=True)\n",
      "tensor([1.5011], requires_grad=True)\n",
      "tensor([1.5011], requires_grad=True)\n",
      "tensor([1.5011], requires_grad=True)\n",
      "tensor([1.5011], requires_grad=True)\n",
      "tensor([1.5010], requires_grad=True)\n",
      "tensor([1.5010], requires_grad=True)\n",
      "tensor([1.5010], requires_grad=True)\n",
      "tensor([1.5010], requires_grad=True)\n",
      "tensor([1.5010], requires_grad=True)\n",
      "tensor([1.5009], requires_grad=True)\n",
      "tensor([1.5009], requires_grad=True)\n",
      "tensor([1.5009], requires_grad=True)\n",
      "tensor([1.5009], requires_grad=True)\n",
      "tensor([1.5009], requires_grad=True)\n",
      "tensor([1.5009], requires_grad=True)\n",
      "tensor([1.5008], requires_grad=True)\n",
      "tensor([1.5008], requires_grad=True)\n",
      "tensor([1.5008], requires_grad=True)\n",
      "tensor([1.5008], requires_grad=True)\n",
      "tensor([1.5008], requires_grad=True)\n",
      "tensor([1.5008], requires_grad=True)\n",
      "tensor([1.5007], requires_grad=True)\n",
      "tensor([1.5007], requires_grad=True)\n",
      "tensor([1.5007], requires_grad=True)\n",
      "tensor([1.5007], requires_grad=True)\n",
      "tensor([1.5007], requires_grad=True)\n",
      "tensor([1.5007], requires_grad=True)\n",
      "tensor([1.5007], requires_grad=True)\n",
      "tensor([1.5006], requires_grad=True)\n",
      "tensor([1.5006], requires_grad=True)\n",
      "tensor([1.5006], requires_grad=True)\n",
      "tensor([1.5006], requires_grad=True)\n",
      "tensor([1.5006], requires_grad=True)\n",
      "tensor([1.5006], requires_grad=True)\n",
      "tensor([1.5006], requires_grad=True)\n",
      "tensor([1.5006], requires_grad=True)\n",
      "tensor([1.5005], requires_grad=True)\n",
      "tensor([1.5005], requires_grad=True)\n",
      "tensor([1.5005], requires_grad=True)\n",
      "tensor([1.5005], requires_grad=True)\n",
      "tensor([1.5005], requires_grad=True)\n",
      "tensor([1.5005], requires_grad=True)\n",
      "tensor([1.5005], requires_grad=True)\n",
      "tensor([1.5005], requires_grad=True)\n",
      "tensor([1.5005], requires_grad=True)\n",
      "tensor([1.5005], requires_grad=True)\n",
      "tensor([1.5004], requires_grad=True)\n",
      "tensor([1.5004], requires_grad=True)\n",
      "tensor([1.5004], requires_grad=True)\n",
      "tensor([1.5004], requires_grad=True)\n",
      "tensor([1.5004], requires_grad=True)\n",
      "tensor([1.5004], requires_grad=True)\n",
      "tensor([1.5004], requires_grad=True)\n",
      "tensor([1.5004], requires_grad=True)\n",
      "tensor([1.5004], requires_grad=True)\n",
      "tensor([1.5004], requires_grad=True)\n",
      "tensor([1.5004], requires_grad=True)\n",
      "tensor([1.5004], requires_grad=True)\n",
      "tensor([1.5003], requires_grad=True)\n",
      "tensor([1.5003], requires_grad=True)\n",
      "tensor([1.5003], requires_grad=True)\n",
      "tensor([1.5003], requires_grad=True)\n",
      "tensor([1.5003], requires_grad=True)\n",
      "tensor([1.5003], requires_grad=True)\n",
      "tensor([1.5003], requires_grad=True)\n",
      "tensor([1.5003], requires_grad=True)\n",
      "tensor([1.5003], requires_grad=True)\n",
      "tensor([1.5003], requires_grad=True)\n",
      "tensor([1.5003], requires_grad=True)\n",
      "tensor([1.5003], requires_grad=True)\n",
      "tensor([1.5003], requires_grad=True)\n",
      "tensor([1.5003], requires_grad=True)\n",
      "tensor([1.5003], requires_grad=True)\n",
      "tensor([1.5003], requires_grad=True)\n",
      "tensor([1.5003], requires_grad=True)\n",
      "tensor([1.5002], requires_grad=True)\n",
      "tensor([1.5002], requires_grad=True)\n",
      "tensor([1.5002], requires_grad=True)\n",
      "tensor([1.5002], requires_grad=True)\n",
      "tensor([1.5002], requires_grad=True)\n",
      "tensor([1.5002], requires_grad=True)\n",
      "tensor([1.5002], requires_grad=True)\n",
      "tensor([1.5002], requires_grad=True)\n",
      "tensor([1.5002], requires_grad=True)\n",
      "tensor([1.5002], requires_grad=True)\n",
      "tensor([1.5002], requires_grad=True)\n",
      "tensor([1.5002], requires_grad=True)\n",
      "tensor([1.5002], requires_grad=True)\n",
      "tensor([1.5002], requires_grad=True)\n",
      "tensor([1.5002], requires_grad=True)\n",
      "tensor([1.5002], requires_grad=True)\n",
      "tensor([1.5002], requires_grad=True)\n",
      "tensor([1.5002], requires_grad=True)\n",
      "tensor([1.5002], requires_grad=True)\n",
      "tensor([1.5002], requires_grad=True)\n",
      "tensor([1.5002], requires_grad=True)\n",
      "tensor([1.5002], requires_grad=True)\n",
      "tensor([1.5002], requires_grad=True)\n",
      "tensor([1.5002], requires_grad=True)\n",
      "tensor([1.5002], requires_grad=True)\n",
      "tensor([1.5001], requires_grad=True)\n",
      "tensor([1.5001], requires_grad=True)\n",
      "tensor([1.5001], requires_grad=True)\n",
      "tensor([1.5001], requires_grad=True)\n",
      "tensor([1.5001], requires_grad=True)\n",
      "tensor([1.5001], requires_grad=True)\n",
      "tensor([1.5001], requires_grad=True)\n",
      "tensor([1.5001], requires_grad=True)\n",
      "tensor([1.5001], requires_grad=True)\n",
      "tensor([1.5001], requires_grad=True)\n",
      "tensor([1.5001], requires_grad=True)\n",
      "tensor([1.5001], requires_grad=True)\n",
      "tensor([1.5001], requires_grad=True)\n",
      "tensor([1.5001], requires_grad=True)\n",
      "tensor([1.5001], requires_grad=True)\n",
      "tensor([1.5001], requires_grad=True)\n",
      "tensor([1.5001], requires_grad=True)\n",
      "tensor([1.5001], requires_grad=True)\n",
      "tensor([1.5001], requires_grad=True)\n",
      "tensor([1.5001], requires_grad=True)\n",
      "tensor([1.5001], requires_grad=True)\n",
      "tensor([1.5001], requires_grad=True)\n",
      "tensor([1.5001], requires_grad=True)\n",
      "tensor([1.5001], requires_grad=True)\n",
      "tensor([1.5001], requires_grad=True)\n",
      "tensor([1.5001], requires_grad=True)\n",
      "tensor([1.5001], requires_grad=True)\n",
      "tensor([1.5001], requires_grad=True)\n",
      "tensor([1.5001], requires_grad=True)\n",
      "tensor([1.5001], requires_grad=True)\n",
      "tensor([1.5001], requires_grad=True)\n",
      "tensor([1.5001], requires_grad=True)\n",
      "tensor([1.5001], requires_grad=True)\n",
      "tensor([1.5001], requires_grad=True)\n",
      "tensor([1.5001], requires_grad=True)\n",
      "tensor([1.5001], requires_grad=True)\n",
      "tensor([1.5001], requires_grad=True)\n",
      "tensor([1.5001], requires_grad=True)\n",
      "tensor([1.5001], requires_grad=True)\n",
      "tensor([1.5001], requires_grad=True)\n",
      "tensor([1.5001], requires_grad=True)\n",
      "tensor([1.5001], requires_grad=True)\n",
      "tensor([1.5001], requires_grad=True)\n",
      "tensor([1.5001], requires_grad=True)\n",
      "tensor([1.5001], requires_grad=True)\n",
      "tensor([1.5001], requires_grad=True)\n",
      "tensor([1.5001], requires_grad=True)\n",
      "tensor([1.5001], requires_grad=True)\n",
      "tensor([1.5001], requires_grad=True)\n",
      "tensor([1.5001], requires_grad=True)\n",
      "tensor([1.5001], requires_grad=True)\n",
      "tensor([1.5001], requires_grad=True)\n",
      "tensor([1.5001], requires_grad=True)\n",
      "tensor([1.5001], requires_grad=True)\n",
      "tensor([1.5001], requires_grad=True)\n",
      "tensor([1.5000], requires_grad=True)\n",
      "tensor([1.5000], requires_grad=True)\n",
      "tensor([1.5000], requires_grad=True)\n",
      "tensor([1.5000], requires_grad=True)\n",
      "tensor([1.5000], requires_grad=True)\n",
      "tensor([1.5000], requires_grad=True)\n",
      "tensor([1.5000], requires_grad=True)\n",
      "tensor([1.5000], requires_grad=True)\n",
      "tensor([1.5000], requires_grad=True)\n",
      "tensor([1.5000], requires_grad=True)\n",
      "tensor([1.5000], requires_grad=True)\n",
      "tensor([1.5000], requires_grad=True)\n",
      "tensor([1.5000], requires_grad=True)\n",
      "tensor([1.5000], requires_grad=True)\n",
      "tensor([1.5000], requires_grad=True)\n",
      "tensor([1.5000], requires_grad=True)\n",
      "tensor([1.5000], requires_grad=True)\n",
      "tensor([1.5000], requires_grad=True)\n",
      "tensor([1.5000], requires_grad=True)\n",
      "tensor([1.5000], requires_grad=True)\n",
      "tensor([1.5000], requires_grad=True)\n",
      "tensor([1.5000], requires_grad=True)\n",
      "tensor([1.5000], requires_grad=True)\n",
      "tensor([1.5000], requires_grad=True)\n",
      "tensor([1.5000], requires_grad=True)\n",
      "tensor([1.5000], requires_grad=True)\n",
      "tensor([1.5000], requires_grad=True)\n",
      "tensor([1.5000], requires_grad=True)\n",
      "tensor([1.5000], requires_grad=True)\n",
      "tensor([1.5000], requires_grad=True)\n",
      "tensor([1.5000], requires_grad=True)\n",
      "tensor([1.5000], requires_grad=True)\n",
      "tensor([1.5000], requires_grad=True)\n",
      "tensor([1.5000], requires_grad=True)\n",
      "tensor([1.5000], requires_grad=True)\n",
      "tensor([1.5000], requires_grad=True)\n",
      "tensor([1.5000], requires_grad=True)\n",
      "tensor([1.5000], requires_grad=True)\n",
      "tensor([1.5000], requires_grad=True)\n",
      "tensor([1.5000], requires_grad=True)\n",
      "tensor([1.5000], requires_grad=True)\n",
      "tensor([1.5000], requires_grad=True)\n",
      "tensor([1.5000], requires_grad=True)\n",
      "tensor([1.5000], requires_grad=True)\n",
      "tensor([1.5000], requires_grad=True)\n",
      "tensor([1.5000], requires_grad=True)\n",
      "tensor([1.5000], requires_grad=True)\n",
      "tensor([1.5000], requires_grad=True)\n",
      "tensor([1.5000], requires_grad=True)\n",
      "tensor([1.5000], requires_grad=True)\n",
      "tensor([1.5000], requires_grad=True)\n",
      "tensor([1.5000], requires_grad=True)\n",
      "tensor([1.5000], requires_grad=True)\n",
      "tensor([1.5000], requires_grad=True)\n",
      "tensor([1.5000], requires_grad=True)\n",
      "tensor([1.5000], requires_grad=True)\n",
      "tensor([1.5000], requires_grad=True)\n",
      "tensor([1.5000], requires_grad=True)\n",
      "tensor([1.5000], requires_grad=True)\n",
      "tensor([1.5000], requires_grad=True)\n",
      "tensor([1.5000], requires_grad=True)\n",
      "tensor([1.5000], requires_grad=True)\n",
      "tensor([1.5000], requires_grad=True)\n",
      "tensor([1.5000], requires_grad=True)\n",
      "tensor([1.5000], requires_grad=True)\n",
      "tensor([1.5000], requires_grad=True)\n",
      "tensor([1.5000], requires_grad=True)\n",
      "tensor([1.5000], requires_grad=True)\n",
      "tensor([1.5000], requires_grad=True)\n",
      "tensor([1.5000], requires_grad=True)\n",
      "tensor([1.5000], requires_grad=True)\n",
      "tensor([1.5000], requires_grad=True)\n",
      "tensor([1.5000], requires_grad=True)\n",
      "tensor([1.5000], requires_grad=True)\n",
      "tensor([1.5000], requires_grad=True)\n",
      "tensor([1.5000], requires_grad=True)\n",
      "tensor([1.5000], requires_grad=True)\n",
      "tensor([1.5000], requires_grad=True)\n",
      "tensor([1.5000], requires_grad=True)\n",
      "tensor([1.5000], requires_grad=True)\n",
      "tensor([1.5000], requires_grad=True)\n",
      "tensor([1.5000], requires_grad=True)\n",
      "tensor([1.5000], requires_grad=True)\n",
      "tensor([1.5000], requires_grad=True)\n",
      "tensor([1.5000], requires_grad=True)\n",
      "tensor([1.5000], requires_grad=True)\n",
      "tensor([1.5000], requires_grad=True)\n",
      "tensor([1.5000], requires_grad=True)\n",
      "tensor([1.5000], requires_grad=True)\n",
      "tensor([1.5000], requires_grad=True)\n",
      "tensor([1.5000], requires_grad=True)\n",
      "tensor([1.5000], requires_grad=True)\n",
      "tensor([1.5000], requires_grad=True)\n",
      "tensor([1.5000], requires_grad=True)\n",
      "tensor([1.5000], requires_grad=True)\n",
      "tensor([1.5000], requires_grad=True)\n",
      "tensor([1.5000], requires_grad=True)\n",
      "tensor([1.5000], requires_grad=True)\n",
      "tensor([1.5000], requires_grad=True)\n",
      "tensor([1.5000], requires_grad=True)\n",
      "tensor([1.5000], requires_grad=True)\n",
      "tensor([1.5000], requires_grad=True)\n",
      "tensor([1.5000], requires_grad=True)\n",
      "tensor([1.5000], requires_grad=True)\n",
      "tensor([1.5000], requires_grad=True)\n",
      "tensor([1.5000], requires_grad=True)\n",
      "tensor([1.5000], requires_grad=True)\n",
      "tensor([1.5000], requires_grad=True)\n",
      "tensor([1.5000], requires_grad=True)\n",
      "tensor([1.5000], requires_grad=True)\n",
      "tensor([1.5000], requires_grad=True)\n",
      "tensor([1.5000], requires_grad=True)\n",
      "tensor([1.5000], requires_grad=True)\n",
      "tensor([1.5000], requires_grad=True)\n",
      "tensor([1.5000], requires_grad=True)\n",
      "tensor([1.5000], requires_grad=True)\n",
      "tensor([1.5000], requires_grad=True)\n",
      "tensor([1.5000], requires_grad=True)\n",
      "tensor([1.5000], requires_grad=True)\n",
      "tensor([1.5000], requires_grad=True)\n",
      "tensor([1.5000], requires_grad=True)\n",
      "tensor([1.5000], requires_grad=True)\n",
      "tensor([1.5000], requires_grad=True)\n",
      "tensor([1.5000], requires_grad=True)\n",
      "tensor([1.5000], requires_grad=True)\n",
      "tensor([1.5000], requires_grad=True)\n",
      "tensor([1.5000], requires_grad=True)\n",
      "tensor([1.5000], requires_grad=True)\n",
      "tensor([1.5000], requires_grad=True)\n",
      "tensor([1.5000], requires_grad=True)\n",
      "tensor([1.5000], requires_grad=True)\n",
      "tensor([1.5000], requires_grad=True)\n",
      "tensor([1.5000], requires_grad=True)\n",
      "tensor([1.5000], requires_grad=True)\n",
      "tensor([1.5000], requires_grad=True)\n",
      "tensor([1.5000], requires_grad=True)\n",
      "tensor([1.5000], requires_grad=True)\n",
      "tensor([1.5000], requires_grad=True)\n",
      "tensor([1.5000], requires_grad=True)\n",
      "tensor([1.5000], requires_grad=True)\n",
      "tensor([1.5000], requires_grad=True)\n",
      "tensor([1.5000], requires_grad=True)\n",
      "tensor([1.5000], requires_grad=True)\n",
      "tensor([1.5000], requires_grad=True)\n",
      "tensor([1.5000], requires_grad=True)\n",
      "tensor([1.5000], requires_grad=True)\n",
      "tensor([1.5000], requires_grad=True)\n",
      "tensor([1.5000], requires_grad=True)\n",
      "tensor([1.5000], requires_grad=True)\n",
      "tensor([1.5000], requires_grad=True)\n",
      "tensor([1.5000], requires_grad=True)\n",
      "tensor([1.5000], requires_grad=True)\n",
      "tensor([1.5000], requires_grad=True)\n",
      "tensor([1.5000], requires_grad=True)\n",
      "tensor([1.5000], requires_grad=True)\n",
      "tensor([1.5000], requires_grad=True)\n",
      "tensor([1.5000], requires_grad=True)\n",
      "tensor([1.5000], requires_grad=True)\n",
      "tensor([1.5000], requires_grad=True)\n",
      "tensor([1.5000], requires_grad=True)\n",
      "tensor([1.5000], requires_grad=True)\n",
      "tensor([1.5000], requires_grad=True)\n",
      "tensor([1.5000], requires_grad=True)\n",
      "tensor([1.5000], requires_grad=True)\n",
      "tensor([1.5000], requires_grad=True)\n",
      "tensor([1.5000], requires_grad=True)\n",
      "tensor([1.5000], requires_grad=True)\n",
      "tensor([1.5000], requires_grad=True)\n",
      "tensor([1.5000], requires_grad=True)\n",
      "tensor([1.5000], requires_grad=True)\n",
      "tensor([1.5000], requires_grad=True)\n",
      "tensor([1.5000], requires_grad=True)\n",
      "tensor([1.5000], requires_grad=True)\n",
      "tensor([1.5000], requires_grad=True)\n",
      "tensor([1.5000], requires_grad=True)\n",
      "tensor([1.5000], requires_grad=True)\n",
      "tensor([1.5000], requires_grad=True)\n",
      "tensor([1.5000], requires_grad=True)\n",
      "tensor([1.5000], requires_grad=True)\n",
      "tensor([1.5000], requires_grad=True)\n",
      "tensor([1.5000], requires_grad=True)\n",
      "tensor([1.5000], requires_grad=True)\n",
      "tensor([1.5000], requires_grad=True)\n",
      "tensor([1.5000], requires_grad=True)\n",
      "tensor([1.5000], requires_grad=True)\n",
      "tensor([1.5000], requires_grad=True)\n",
      "tensor([1.5000], requires_grad=True)\n",
      "tensor([1.5000], requires_grad=True)\n",
      "tensor([1.5000], requires_grad=True)\n",
      "tensor([1.5000], requires_grad=True)\n",
      "tensor([1.5000], requires_grad=True)\n",
      "tensor([1.5000], requires_grad=True)\n",
      "tensor([1.5000], requires_grad=True)\n",
      "tensor([1.5000], requires_grad=True)\n",
      "tensor([1.5000], requires_grad=True)\n",
      "tensor([1.5000], requires_grad=True)\n",
      "tensor([1.5000], requires_grad=True)\n",
      "tensor([1.5000], requires_grad=True)\n",
      "tensor([1.5000], requires_grad=True)\n",
      "tensor([1.5000], requires_grad=True)\n",
      "tensor([1.5000], requires_grad=True)\n",
      "tensor([1.5000], requires_grad=True)\n",
      "tensor([1.5000], requires_grad=True)\n",
      "tensor([1.5000], requires_grad=True)\n",
      "tensor([1.5000], requires_grad=True)\n",
      "tensor([1.5000], requires_grad=True)\n",
      "tensor([1.5000], requires_grad=True)\n",
      "tensor([1.5000], requires_grad=True)\n",
      "tensor([1.5000], requires_grad=True)\n",
      "tensor([1.5000], requires_grad=True)\n",
      "tensor([1.5000], requires_grad=True)\n",
      "tensor([1.5000], requires_grad=True)\n",
      "tensor([1.5000], requires_grad=True)\n",
      "tensor([1.5000], requires_grad=True)\n",
      "tensor([1.5000], requires_grad=True)\n",
      "tensor([1.5000], requires_grad=True)\n",
      "tensor([1.5000], requires_grad=True)\n",
      "tensor([1.5000], requires_grad=True)\n",
      "tensor([1.5000], requires_grad=True)\n",
      "tensor([1.5000], requires_grad=True)\n",
      "tensor([1.5000], requires_grad=True)\n",
      "tensor([1.5000], requires_grad=True)\n",
      "tensor([1.5000], requires_grad=True)\n",
      "tensor([1.5000], requires_grad=True)\n",
      "tensor([1.5000], requires_grad=True)\n",
      "tensor([1.5000], requires_grad=True)\n",
      "tensor([1.5000], requires_grad=True)\n",
      "tensor([1.5000], requires_grad=True)\n",
      "tensor([1.5000], requires_grad=True)\n",
      "tensor([1.5000], requires_grad=True)\n",
      "tensor([1.5000], requires_grad=True)\n",
      "tensor([1.5000], requires_grad=True)\n",
      "tensor([1.5000], requires_grad=True)\n",
      "tensor([1.5000], requires_grad=True)\n",
      "tensor([1.5000], requires_grad=True)\n",
      "tensor([1.5000], requires_grad=True)\n",
      "tensor([1.5000], requires_grad=True)\n",
      "tensor([1.5000], requires_grad=True)\n",
      "tensor([1.5000], requires_grad=True)\n",
      "tensor([1.5000], requires_grad=True)\n",
      "tensor([1.5000], requires_grad=True)\n",
      "tensor([1.5000], requires_grad=True)\n",
      "tensor([1.5000], requires_grad=True)\n",
      "tensor([1.5000], requires_grad=True)\n",
      "tensor([1.5000], requires_grad=True)\n",
      "tensor([1.5000], requires_grad=True)\n",
      "tensor([1.5000], requires_grad=True)\n",
      "tensor([1.5000], requires_grad=True)\n",
      "tensor([1.5000], requires_grad=True)\n",
      "tensor([1.5000], requires_grad=True)\n",
      "tensor([1.5000], requires_grad=True)\n",
      "tensor([1.5000], requires_grad=True)\n",
      "tensor([1.5000], requires_grad=True)\n",
      "tensor([1.5000], requires_grad=True)\n",
      "tensor([1.5000], requires_grad=True)\n",
      "tensor([1.5000], requires_grad=True)\n",
      "tensor([1.5000], requires_grad=True)\n",
      "tensor([1.5000], requires_grad=True)\n",
      "tensor([1.5000], requires_grad=True)\n",
      "tensor([1.5000], requires_grad=True)\n",
      "tensor([1.5000], requires_grad=True)\n",
      "tensor([1.5000], requires_grad=True)\n",
      "tensor([1.5000], requires_grad=True)\n",
      "tensor([1.5000], requires_grad=True)\n",
      "tensor([1.5000], requires_grad=True)\n",
      "tensor([1.5000], requires_grad=True)\n",
      "tensor([1.5000], requires_grad=True)\n",
      "tensor([1.5000], requires_grad=True)\n",
      "tensor([1.5000], requires_grad=True)\n",
      "tensor([1.5000], requires_grad=True)\n",
      "tensor([1.5000], requires_grad=True)\n",
      "tensor([1.5000], requires_grad=True)\n",
      "tensor([1.5000], requires_grad=True)\n",
      "tensor([1.5000], requires_grad=True)\n",
      "tensor([1.5000], requires_grad=True)\n",
      "tensor([1.5000], requires_grad=True)\n",
      "tensor([1.5000], requires_grad=True)\n",
      "tensor([1.5000], requires_grad=True)\n",
      "tensor([1.5000], requires_grad=True)\n",
      "tensor([1.5000], requires_grad=True)\n",
      "tensor([1.5000], requires_grad=True)\n",
      "tensor([1.5000], requires_grad=True)\n",
      "tensor([1.5000], requires_grad=True)\n",
      "tensor([1.5000], requires_grad=True)\n",
      "tensor([1.5000], requires_grad=True)\n",
      "tensor([1.5000], requires_grad=True)\n",
      "tensor([1.5000], requires_grad=True)\n",
      "tensor([1.5000], requires_grad=True)\n",
      "tensor([1.5000], requires_grad=True)\n",
      "tensor([1.5000], requires_grad=True)\n",
      "tensor([1.5000], requires_grad=True)\n",
      "tensor([1.5000], requires_grad=True)\n",
      "tensor([1.5000], requires_grad=True)\n",
      "tensor([1.5000], requires_grad=True)\n",
      "tensor([1.5000], requires_grad=True)\n",
      "tensor([1.5000], requires_grad=True)\n",
      "tensor([1.5000], requires_grad=True)\n",
      "tensor([1.5000], requires_grad=True)\n",
      "tensor([1.5000], requires_grad=True)\n",
      "tensor([1.5000], requires_grad=True)\n",
      "tensor([1.5000], requires_grad=True)\n",
      "tensor([1.5000], requires_grad=True)\n",
      "tensor([1.5000], requires_grad=True)\n",
      "tensor([1.5000], requires_grad=True)\n",
      "tensor([1.5000], requires_grad=True)\n",
      "tensor([1.5000], requires_grad=True)\n",
      "tensor([1.5000], requires_grad=True)\n",
      "tensor([1.5000], requires_grad=True)\n",
      "tensor([1.5000], requires_grad=True)\n",
      "tensor([1.5000], requires_grad=True)\n",
      "tensor([1.5000], requires_grad=True)\n",
      "tensor([1.5000], requires_grad=True)\n",
      "tensor([1.5000], requires_grad=True)\n",
      "tensor([1.5000], requires_grad=True)\n",
      "tensor([1.5000], requires_grad=True)\n",
      "tensor([1.5000], requires_grad=True)\n",
      "tensor([1.5000], requires_grad=True)\n",
      "tensor([1.5000], requires_grad=True)\n",
      "tensor([1.5000], requires_grad=True)\n",
      "tensor([1.5000], requires_grad=True)\n",
      "tensor([1.5000], requires_grad=True)\n",
      "tensor([1.5000], requires_grad=True)\n",
      "tensor([1.5000], requires_grad=True)\n",
      "tensor([1.5000], requires_grad=True)\n",
      "tensor([1.5000], requires_grad=True)\n",
      "tensor([1.5000], requires_grad=True)\n",
      "tensor([1.5000], requires_grad=True)\n",
      "tensor([1.5000], requires_grad=True)\n",
      "tensor([1.5000], requires_grad=True)\n",
      "tensor([1.5000], requires_grad=True)\n",
      "tensor([1.5000], requires_grad=True)\n",
      "tensor([1.5000], requires_grad=True)\n",
      "tensor([1.5000], requires_grad=True)\n",
      "tensor([1.5000], requires_grad=True)\n",
      "tensor([1.5000], requires_grad=True)\n",
      "tensor([1.5000], requires_grad=True)\n",
      "tensor([1.5000], requires_grad=True)\n",
      "tensor([1.5000], requires_grad=True)\n",
      "tensor([1.5000], requires_grad=True)\n",
      "tensor([1.5000], requires_grad=True)\n",
      "tensor([1.5000], requires_grad=True)\n",
      "tensor([1.5000], requires_grad=True)\n",
      "tensor([1.5000], requires_grad=True)\n",
      "tensor([1.5000], requires_grad=True)\n",
      "tensor([1.5000], requires_grad=True)\n",
      "tensor([1.5000], requires_grad=True)\n",
      "tensor([1.5000], requires_grad=True)\n",
      "tensor([1.5000], requires_grad=True)\n",
      "tensor([1.5000], requires_grad=True)\n",
      "tensor([1.5000], requires_grad=True)\n",
      "tensor([1.5000], requires_grad=True)\n",
      "tensor([1.5000], requires_grad=True)\n",
      "tensor([1.5000], requires_grad=True)\n",
      "tensor([1.5000], requires_grad=True)\n",
      "tensor([1.5000], requires_grad=True)\n",
      "tensor([1.5000], requires_grad=True)\n",
      "tensor([1.5000], requires_grad=True)\n",
      "tensor([1.5000], requires_grad=True)\n",
      "tensor([1.5000], requires_grad=True)\n",
      "tensor([1.5000], requires_grad=True)\n",
      "tensor([1.5000], requires_grad=True)\n",
      "tensor([1.5000], requires_grad=True)\n",
      "tensor([1.5000], requires_grad=True)\n",
      "tensor([1.5000], requires_grad=True)\n",
      "tensor([1.5000], requires_grad=True)\n",
      "tensor([1.5000], requires_grad=True)\n",
      "tensor([1.5000], requires_grad=True)\n",
      "tensor([1.5000], requires_grad=True)\n",
      "tensor([1.5000], requires_grad=True)\n",
      "tensor([1.5000], requires_grad=True)\n",
      "tensor([1.5000], requires_grad=True)\n",
      "tensor([1.5000], requires_grad=True)\n",
      "tensor([1.5000], requires_grad=True)\n",
      "tensor([1.5000], requires_grad=True)\n",
      "tensor([1.5000], requires_grad=True)\n",
      "tensor([1.5000], requires_grad=True)\n",
      "tensor([1.5000], requires_grad=True)\n",
      "tensor([1.5000], requires_grad=True)\n",
      "tensor([1.5000], requires_grad=True)\n",
      "tensor([1.5000], requires_grad=True)\n",
      "tensor([1.5000], requires_grad=True)\n",
      "tensor([1.5000], requires_grad=True)\n",
      "tensor([1.5000], requires_grad=True)\n",
      "tensor([1.5000], requires_grad=True)\n",
      "tensor([1.5000], requires_grad=True)\n",
      "tensor([1.5000], requires_grad=True)\n",
      "tensor([1.5000], requires_grad=True)\n",
      "tensor([1.5000], requires_grad=True)\n",
      "tensor([1.5000], requires_grad=True)\n",
      "tensor([1.5000], requires_grad=True)\n",
      "tensor([1.5000], requires_grad=True)\n",
      "tensor([1.5000], requires_grad=True)\n",
      "tensor([1.5000], requires_grad=True)\n",
      "tensor([1.5000], requires_grad=True)\n",
      "tensor([1.5000], requires_grad=True)\n",
      "tensor([1.5000], requires_grad=True)\n",
      "tensor([1.5000], requires_grad=True)\n",
      "tensor([1.5000], requires_grad=True)\n",
      "tensor([1.5000], requires_grad=True)\n",
      "tensor([1.5000], requires_grad=True)\n",
      "tensor([1.5000], requires_grad=True)\n",
      "tensor([1.5000], requires_grad=True)\n",
      "tensor([1.5000], requires_grad=True)\n",
      "tensor([1.5000], requires_grad=True)\n",
      "tensor([1.5000], requires_grad=True)\n",
      "tensor([1.5000], requires_grad=True)\n",
      "tensor([1.5000], requires_grad=True)\n",
      "tensor([1.5000], requires_grad=True)\n",
      "tensor([1.5000], requires_grad=True)\n",
      "tensor([1.5000], requires_grad=True)\n",
      "tensor([1.5000], requires_grad=True)\n",
      "tensor([1.5000], requires_grad=True)\n",
      "tensor([1.5000], requires_grad=True)\n",
      "tensor([1.5000], requires_grad=True)\n",
      "tensor([1.5000], requires_grad=True)\n",
      "tensor([1.5000], requires_grad=True)\n",
      "tensor([1.5000], requires_grad=True)\n",
      "tensor([1.5000], requires_grad=True)\n",
      "tensor([1.5000], requires_grad=True)\n",
      "tensor([1.5000], requires_grad=True)\n",
      "tensor([1.5000], requires_grad=True)\n",
      "tensor([1.5000], requires_grad=True)\n",
      "tensor([1.5000], requires_grad=True)\n",
      "tensor([1.5000], requires_grad=True)\n",
      "tensor([1.5000], requires_grad=True)\n",
      "tensor([1.5000], requires_grad=True)\n",
      "tensor([1.5000], requires_grad=True)\n",
      "tensor([1.5000], requires_grad=True)\n",
      "tensor([1.5000], requires_grad=True)\n",
      "tensor([1.5000], requires_grad=True)\n",
      "tensor([1.5000], requires_grad=True)\n",
      "tensor([1.5000], requires_grad=True)\n",
      "tensor([1.5000], requires_grad=True)\n",
      "tensor([1.5000], requires_grad=True)\n",
      "tensor([1.5000], requires_grad=True)\n",
      "tensor([1.5000], requires_grad=True)\n",
      "tensor([1.5000], requires_grad=True)\n",
      "tensor([1.5000], requires_grad=True)\n",
      "tensor([1.5000], requires_grad=True)\n",
      "tensor([1.5000], requires_grad=True)\n",
      "tensor([1.5000], requires_grad=True)\n",
      "tensor([1.5000], requires_grad=True)\n",
      "tensor([1.5000], requires_grad=True)\n",
      "tensor([1.5000], requires_grad=True)\n",
      "tensor([1.5000], requires_grad=True)\n",
      "tensor([1.5000], requires_grad=True)\n",
      "tensor([1.5000], requires_grad=True)\n",
      "tensor([1.5000], requires_grad=True)\n",
      "tensor([1.5000], requires_grad=True)\n",
      "tensor([1.5000], requires_grad=True)\n",
      "tensor([1.5000], requires_grad=True)\n",
      "tensor([1.5000], requires_grad=True)\n",
      "tensor([1.5000], requires_grad=True)\n",
      "tensor([1.5000], requires_grad=True)\n",
      "tensor([1.5000], requires_grad=True)\n",
      "tensor([1.5000], requires_grad=True)\n",
      "tensor([1.5000], requires_grad=True)\n",
      "tensor([1.5000], requires_grad=True)\n",
      "tensor([1.5000], requires_grad=True)\n",
      "tensor([1.5000], requires_grad=True)\n",
      "tensor([1.5000], requires_grad=True)\n",
      "tensor([1.5000], requires_grad=True)\n",
      "tensor([1.5000], requires_grad=True)\n",
      "tensor([1.5000], requires_grad=True)\n",
      "tensor([1.5000], requires_grad=True)\n",
      "tensor([1.5000], requires_grad=True)\n",
      "tensor([1.5000], requires_grad=True)\n",
      "tensor([1.5000], requires_grad=True)\n",
      "tensor([1.5000], requires_grad=True)\n",
      "tensor([1.5000], requires_grad=True)\n",
      "tensor([1.5000], requires_grad=True)\n",
      "tensor([1.5000], requires_grad=True)\n",
      "tensor([1.5000], requires_grad=True)\n",
      "tensor([1.5000], requires_grad=True)\n",
      "tensor([1.5000], requires_grad=True)\n",
      "tensor([1.5000], requires_grad=True)\n",
      "tensor([1.5000], requires_grad=True)\n",
      "tensor([1.5000], requires_grad=True)\n",
      "tensor([1.5000], requires_grad=True)\n",
      "tensor([1.5000], requires_grad=True)\n",
      "tensor([1.5000], requires_grad=True)\n",
      "tensor([1.5000], requires_grad=True)\n",
      "tensor([1.5000], requires_grad=True)\n",
      "tensor([1.5000], requires_grad=True)\n",
      "tensor([1.5000], requires_grad=True)\n",
      "tensor([1.5000], requires_grad=True)\n",
      "tensor([1.5000], requires_grad=True)\n",
      "tensor([1.5000], requires_grad=True)\n",
      "tensor([1.5000], requires_grad=True)\n",
      "tensor([1.5000], requires_grad=True)\n"
     ]
    }
   ],
   "source": [
    "values = [] # here we store the values of y as we compute them\n",
    "\n",
    "for i in range(1000):\n",
    "    print(x)\n",
    "\n",
    "    # forward pass / or just calculate the outcome\n",
    "    y = x**2 - 3*x + 2\n",
    "    values.append(y.detach().numpy()) # detach removes gradient information and allows us to transform tensors into arrays\n",
    " \n",
    "    # backward pass on the thing we want to minimize\n",
    "    y.backward()\n",
    "\n",
    "    # take a step in the \"minimize direction\"\n",
    "    optimizer.step()\n",
    "\n",
    "    # zero the gradient\n",
    "    optimizer.zero_grad()\n"
   ]
  },
  {
   "cell_type": "code",
   "execution_count": 227,
   "metadata": {},
   "outputs": [
    {
     "name": "stdout",
     "output_type": "stream",
     "text": [
      "tensor([1.5000], requires_grad=True)\n"
     ]
    }
   ],
   "source": [
    "print(x)"
   ]
  },
  {
   "cell_type": "markdown",
   "metadata": {},
   "source": [
    "We have converged to the value of `x` which yields the minimum `y`. Now let's visualize the history of this process, seeing how the value of `y` changed at each step."
   ]
  },
  {
   "cell_type": "code",
   "execution_count": 228,
   "metadata": {},
   "outputs": [
    {
     "data": {
      "image/png": "[encoded data removed]",
      "text/plain": [
       "<Figure size 640x480 with 1 Axes>"
      ]
     },
     "metadata": {},
     "output_type": "display_data"
    }
   ],
   "source": [
    "plt.plot(range(1000), values)\n",
    "plt.xlabel('step')\n",
    "plt.ylabel('value of y')\n",
    "plt.show()"
   ]
  },
  {
   "cell_type": "markdown",
   "metadata": {},
   "source": [
    "The process we have performed here is analogous to what you do when training any neural network using stochastic gradient descent, or similar optimization algorithms. In that case, the function you will be working with will be the **loss function** for your network (e.g., `cross-entropy loss`), rather than our polynomial function. \n",
    "The curve we have just plotted here will describe changes in your loss as a function of training. If training is going well, you will have a fairly smoothly descending curve. If the curve is much bumpier or not monotonically descending, it may be a symptom of your training process not being optimal (e.g., the learning rate not being good, or the loss function being ill-defined)."
   ]
  },
  {
   "cell_type": "markdown",
   "metadata": {},
   "source": [
    "### Bonus task\n",
    "- Try and define some functions of your own and see if you can find the minimum. (There are tools online where you can check what the actual minimum is, to see if the algorithm gets it right!)\n",
    "- What happens if you change the learning rate? Try set it to unrealistically high or low values."
   ]
  },
  {
   "cell_type": "markdown",
   "metadata": {},
   "source": [
    "## Building a Neural Logistic Regression Classifier"
   ]
  },
  {
   "cell_type": "markdown",
   "metadata": {},
   "source": [
    "So far we haven't actually looked at any text data, and we have looked at a toy example of optimization.\n",
    "Time to move on to a real example. In class 2, we looked at an example of text classification using term-document matrices to classify the sentiment of some sentences.\n",
    "In that case, we used the `scikit-learn` implementation of logistic regression. Here, we will solve the same problem using a neural network classifier. The advantage of this approach, is that we could in theory add a number of intermediate layers to improve the performance of our models (minding that overly complex networks may also *hinder* performance by overfitting)."
   ]
  },
  {
   "cell_type": "markdown",
   "metadata": {},
   "source": [
    "First, let's load the data."
   ]
  },
  {
   "cell_type": "code",
   "execution_count": 229,
   "metadata": {},
   "outputs": [],
   "source": [
    "# load the sst2 dataset\n",
    "dataset = load_dataset(\"glue\", \"sst2\")\n",
    "\n",
    "# select the train split\n",
    "data = dataset[\"train\"]\n",
    "X = data[\"sentence\"]\n",
    "y = data[\"label\"]"
   ]
  },
  {
   "cell_type": "markdown",
   "metadata": {},
   "source": [
    "__Creating train/test splits__\n",
    "\n",
    "A common practice when building ML/DL models is to use explicitly defined subsets of data for different tasks - [training vs testing](https://upload.wikimedia.org/wikipedia/commons/b/bb/ML_dataset_training_validation_test_sets.png), for example. This is slightly different from how we work when doing statistical modelling (in most cases).\n",
    "\n",
    "```scikit-learn``` has a simple tool that allows us to quickly split our dataset."
   ]
  },
  {
   "cell_type": "code",
   "execution_count": 230,
   "metadata": {},
   "outputs": [],
   "source": [
    "X_train, X_test, y_train, y_test = train_test_split(data[\"sentence\"], \n",
    "                                                    data[\"label\"], \n",
    "                                                    test_size=0.2, \n",
    "                                                    random_state=42)"
   ]
  },
  {
   "cell_type": "markdown",
   "metadata": {},
   "source": [
    "__Creating a document vectorizer__\n",
    "\n",
    "Similar to what we did in the previous class, we now transform our sentences into a matrix which has documents as rows, and words as columns, and whose values are normalized frequency counts. We do it using `TfidfVectorizer` from `sklearn` (or `CountVectorizer`). Do you remember what the difference was?"
   ]
  },
  {
   "cell_type": "markdown",
   "metadata": {},
   "source": [
    "__Initialize vectorizer__"
   ]
  },
  {
   "cell_type": "code",
   "execution_count": 231,
   "metadata": {},
   "outputs": [],
   "source": [
    "vectorizer = TfidfVectorizer() # transforms the sentences into vectors that represent weighted word counts"
   ]
  },
  {
   "cell_type": "markdown",
   "metadata": {},
   "source": [
    "__Fit to the training data__"
   ]
  },
  {
   "cell_type": "code",
   "execution_count": 232,
   "metadata": {},
   "outputs": [],
   "source": [
    "# vectorized training data\n",
    "X_train_vect = vectorizer.fit_transform(X_train)\n",
    "\n",
    "# vectorized test data^\n",
    "X_test_vect = vectorizer.transform(X_test)"
   ]
  },
  {
   "cell_type": "markdown",
   "metadata": {},
   "source": [
    "__Convert to tensors__"
   ]
  },
  {
   "cell_type": "code",
   "execution_count": 233,
   "metadata": {},
   "outputs": [],
   "source": [
    "# vectorized training data\n",
    "X_train_vect = torch.tensor(X_train_vect.toarray(), dtype=torch.float)\n",
    "\n",
    "# vectorized test data\n",
    "X_test_vect = torch.tensor(X_test_vect.toarray(), dtype=torch.float)"
   ]
  },
  {
   "cell_type": "markdown",
   "metadata": {},
   "source": [
    "__Convert labels__ to tensors"
   ]
  },
  {
   "cell_type": "code",
   "execution_count": 234,
   "metadata": {},
   "outputs": [],
   "source": [
    "# training labels\n",
    "y_train = torch.tensor(list(y_train), dtype=torch.float)\n",
    "# test labels\n",
    "y_test = torch.tensor(list(y_test), dtype=torch.float)"
   ]
  },
  {
   "cell_type": "code",
   "execution_count": 235,
   "metadata": {},
   "outputs": [],
   "source": [
    "y_train = y_train.view(y_train.shape[0], 1)\n",
    "y_test = y_test.view(y_test.shape[0], 1)"
   ]
  },
  {
   "cell_type": "markdown",
   "metadata": {},
   "source": [
    "#### Specifying model, loss, and optimizer\n",
    "Ok, so, now we have inputs and labels for our model. What we need to do is specify three things:\n",
    "- __our model__: we want to specify the architecture of our model;\n",
    "- __our loss function__: we want to specify what function we are using to optimize model weights to producing the best possible predictions. Since this is a binary classification task, we will use the cross-entropy function we have discussed in class;\n",
    "- __our optimizer__: the process by which we optimize weights. We will use Stochastic Gradient Descent."
   ]
  },
  {
   "cell_type": "markdown",
   "metadata": {},
   "source": [
    "__Initialization parameters for Logistic Regression__\n",
    "\n",
    "To define the architecture, we need to know how many inputs we have, i.e., the dimensionality of our vectors. We also need to know what the dimensionality of the output is."
   ]
  },
  {
   "cell_type": "code",
   "execution_count": 236,
   "metadata": {},
   "outputs": [],
   "source": [
    "n_samples, n_features = X_train_vect.shape\n",
    "input_size = n_features \n",
    "output_size = 1"
   ]
  },
  {
   "cell_type": "markdown",
   "metadata": {},
   "source": [
    "__1. Creating the model__\n",
    "\n",
    "Computing the output with a simple logistic regression model implies two things. First, we multiply each of our inputs by the corresponding weights, sum them, and add the bias. This is what a __linear__ (or __fully connected__) layer in a neural network architecture can do for us. Second, we apply a sigmoid transformation to the output.\n",
    "\n",
    "Let's start by implementing this simple model as a neural network. All we need is a `Linear` layer which takes a number of inputs corresponding to the number of dimensions of our document vectors, and outputs a single value."
   ]
  },
  {
   "cell_type": "code",
   "execution_count": 237,
   "metadata": {},
   "outputs": [],
   "source": [
    "# create a weight and biases (betas and intercept) initialized 'randomly'\n",
    "model = nn.Linear(input_size, output_size) # this is the model we want to optimize\n",
    "\n",
    "learning_rate = 0.1 # feel free to change this"
   ]
  },
  {
   "cell_type": "markdown",
   "metadata": {},
   "source": [
    "This comes with randomly initialized weights and biases for the linear layer. "
   ]
  },
  {
   "cell_type": "code",
   "execution_count": 238,
   "metadata": {},
   "outputs": [
    {
     "name": "stdout",
     "output_type": "stream",
     "text": [
      "[Parameter containing:\n",
      "tensor([[-0.0011,  0.0044, -0.0049,  ...,  0.0024, -0.0031,  0.0052]],\n",
      "       requires_grad=True), Parameter containing:\n",
      "tensor([0.0017], requires_grad=True)]\n"
     ]
    }
   ],
   "source": [
    "print(list(model.parameters()))"
   ]
  },
  {
   "cell_type": "markdown",
   "metadata": {},
   "source": [
    "__2-3. Defining the loss and the optimizer__\n",
    "\n",
    "In the first part of our notebook, we manually specified the function we were trying to minimize. For common loss functions, PyTorch comes with predefined classes. Our cross-entropy loss is for example implemented in this `BCELoss` class. You can explore other losses here: https://pytorch.org/docs/stable/nn.html.\n",
    "\n",
    "As to the optimizer, we use again the Stochastic Gradient Descent optimizer."
   ]
  },
  {
   "cell_type": "code",
   "execution_count": 252,
   "metadata": {},
   "outputs": [],
   "source": [
    "#criterion = nn.BCELoss() # binary cross entropy loss (BCELoss).\n",
    "#optimizer = torch.optim.SGD(model.parameters(), # parameters to optimize\n",
    "                          #  lr=learning_rate,    # the speed in which we optimize them  / how fast the model learns (think step size) \n",
    "             #               ) \n",
    "#optimizer = torch.optim.AdamW(model.parameters())\n",
    "\n",
    "learning_rate = 0.1 # feel free to change this\n",
    "\n",
    "criterion = nn.BCEWithLogitsLoss()\n",
    "optimizer = torch.optim.Adam(model.parameters(), lr=learning_rate)"
   ]
  },
  {
   "cell_type": "markdown",
   "metadata": {},
   "source": [
    "__Run the model for 100 epochs__\n",
    "Ok! Now we have some data, a model, a loss function, and a way to update the model to try minimize the loss function. Let's run 100 passes of gradient descent (on the full dataset, not on batches for now) and see where we get."
   ]
  },
  {
   "cell_type": "code",
   "execution_count": 253,
   "metadata": {},
   "outputs": [
    {
     "name": "stdout",
     "output_type": "stream",
     "text": [
      "epoch: 10, loss = 1.3467\n",
      "epoch: 20, loss = 0.5237\n",
      "epoch: 30, loss = 0.3245\n",
      "epoch: 40, loss = 0.2200\n",
      "epoch: 50, loss = 0.1711\n",
      "epoch: 60, loss = 0.1361\n",
      "epoch: 70, loss = 0.1152\n",
      "epoch: 80, loss = 0.1017\n",
      "epoch: 90, loss = 0.0926\n",
      "epoch: 100, loss = 0.0868\n"
     ]
    }
   ],
   "source": [
    "epochs = 100\n",
    "sigmoid = nn.Sigmoid() # some pytorch util to calculate the sigmoid function\n",
    "                       # Sigmoid because we want an output that is between 0-1 because we're doing binary classification\n",
    "\n",
    "for epoch in range(epochs):\n",
    "    y_predicted = model(X_train_vect)\n",
    "\n",
    "    # calucate loss / BCE with logits loss\n",
    "    loss = criterion(y_predicted, y_train)\n",
    "    \n",
    "    # Backward pass / gradient and update\n",
    "    loss.backward()\n",
    "    optimizer.step()\n",
    "\n",
    "    # zero grad before new step\n",
    "    optimizer.zero_grad()\n",
    "\n",
    "    # some print to see that it is running\n",
    "    if (epoch + 1) % 10 == 0:\n",
    "        print(f\"epoch: {epoch+1}, loss = {loss.item():.4f}\")"
   ]
  },
  {
   "cell_type": "markdown",
   "metadata": {},
   "source": [
    "__Check performance against test data__\n",
    "\n",
    "We use some utils from scikit-learn to do so."
   ]
  },
  {
   "cell_type": "code",
   "execution_count": 256,
   "metadata": {},
   "outputs": [],
   "source": [
    "# these are the predictions of the model for the test set\n",
    "predicted = sigmoid(model(X_test_vect)).detach().numpy()"
   ]
  },
  {
   "cell_type": "code",
   "execution_count": 257,
   "metadata": {},
   "outputs": [
    {
     "data": {
      "text/plain": [
       "0.8979955456570156"
      ]
     },
     "execution_count": 257,
     "metadata": {},
     "output_type": "execute_result"
    }
   ],
   "source": [
    "accuracy_score(y_test, predicted>0.5)"
   ]
  },
  {
   "cell_type": "code",
   "execution_count": 258,
   "metadata": {},
   "outputs": [
    {
     "name": "stdout",
     "output_type": "stream",
     "text": [
      "              precision    recall  f1-score   support\n",
      "\n",
      "    Negative       0.88      0.89      0.88      5909\n",
      "    Positive       0.91      0.91      0.91      7561\n",
      "\n",
      "    accuracy                           0.90     13470\n",
      "   macro avg       0.90      0.90      0.90     13470\n",
      "weighted avg       0.90      0.90      0.90     13470\n",
      "\n"
     ]
    }
   ],
   "source": [
    "print(classification_report(y_test, \n",
    "                            np.where(predicted > 0.5, 1, 0),\n",
    "                            target_names = [\"Negative\", \"Positive\"]))"
   ]
  },
  {
   "cell_type": "markdown",
   "metadata": {},
   "source": [
    "__Bonus task__:\n",
    "\n",
    "Our accuracy is better than chance, but not great. It may be due to many different reasons, such as our learning rate not being great. What happens if you change the learning rate? What happens if you use a different optimizer? Try uncomment the `Adam` optimizer defined in the optimizer cell."
   ]
  },
  {
   "cell_type": "markdown",
   "metadata": {},
   "source": [
    "### Deep(er) networks\n",
    "So far we have worked with a very simple model. But as we have seen in class, you can create arbitrarily complex models. Let's do that using PyTorch. We can use PyTorch Module class, which allows us to build arbitrarily complex models."
   ]
  },
  {
   "cell_type": "code",
   "execution_count": 36,
   "metadata": {},
   "outputs": [],
   "source": [
    "class Model(nn.Module):\n",
    "    def __init__(self, n_input_features=10):\n",
    "        super().__init__()\n",
    "        self.linear1 = nn.Linear(n_input_features, 30)\n",
    "        self.linear2 = nn.Linear(30, 30)\n",
    "        self.linear3 = nn.Linear(30, 1)\n",
    "\n",
    "    def forward(self, x):\n",
    "        x = self.linear1(x)\n",
    "        x = torch.sigmoid(x)\n",
    "        x = self.linear2(x)\n",
    "        x = torch.sigmoid(x)\n",
    "        x = self.linear3(x)\n",
    "        y_pred = torch.sigmoid(x)\n",
    "        return y_pred"
   ]
  },
  {
   "cell_type": "code",
   "execution_count": 37,
   "metadata": {},
   "outputs": [],
   "source": [
    "# initialize model, loss, and optimizer\n",
    "model = Model(n_input_features=n_features)\n",
    "criterion = nn.BCELoss()\n",
    "optimizer = torch.optim.AdamW(model.parameters())"
   ]
  },
  {
   "cell_type": "code",
   "execution_count": 38,
   "metadata": {},
   "outputs": [
    {
     "name": "stdout",
     "output_type": "stream",
     "text": [
      "Model(\n",
      "  (linear1): Linear(in_features=13656, out_features=30, bias=True)\n",
      "  (linear2): Linear(in_features=30, out_features=30, bias=True)\n",
      "  (linear3): Linear(in_features=30, out_features=1, bias=True)\n",
      ")\n"
     ]
    }
   ],
   "source": [
    "print(model) # this is how our model looks like -- with some sigmoid activations in between."
   ]
  },
  {
   "cell_type": "markdown",
   "metadata": {},
   "source": [
    "Now let's train the model like we did before."
   ]
  },
  {
   "cell_type": "code",
   "execution_count": 39,
   "metadata": {},
   "outputs": [
    {
     "name": "stdout",
     "output_type": "stream",
     "text": [
      "epoch: 10, loss = 0.6868\n",
      "epoch: 20, loss = 0.6863\n",
      "epoch: 30, loss = 0.6850\n",
      "epoch: 40, loss = 0.6841\n",
      "epoch: 50, loss = 0.6829\n",
      "epoch: 60, loss = 0.6814\n",
      "epoch: 70, loss = 0.6791\n",
      "epoch: 80, loss = 0.6759\n",
      "epoch: 90, loss = 0.6713\n",
      "epoch: 100, loss = 0.6647\n"
     ]
    }
   ],
   "source": [
    "epochs = 100\n",
    "loss_history = [] # here we will store the value of the loss at each epoch\n",
    "\n",
    "for epoch in range(epochs):\n",
    "    \n",
    "    y_predicted = model(X_train_vect)\n",
    "    loss = criterion(y_predicted, y_train)\n",
    "    loss_history.append(loss)\n",
    "    \n",
    "    # Backward pass / gradient and update\n",
    "    loss.backward()\n",
    "    optimizer.step()\n",
    "\n",
    "    # zero grad before new step\n",
    "    optimizer.zero_grad()\n",
    "\n",
    "    # some print to see that it is running\n",
    "    if (epoch + 1) % 10 == 0:\n",
    "        print(f\"epoch: {epoch+1}, loss = {loss.item():.4f}\")"
   ]
  },
  {
   "cell_type": "code",
   "execution_count": 40,
   "metadata": {},
   "outputs": [
    {
     "data": {
      "text/plain": [
       "[<matplotlib.lines.Line2D at 0x2b1fb77c0>]"
      ]
     },
     "execution_count": 40,
     "metadata": {},
     "output_type": "execute_result"
    },
    {
     "data": {
      "image/png": "[encoded data removed]",
      "text/plain": [
       "<Figure size 640x480 with 1 Axes>"
      ]
     },
     "metadata": {},
     "output_type": "display_data"
    }
   ],
   "source": [
    "loss_H = [val.item() for val in loss_history]\n",
    "fig, ax = plt.subplots()\n",
    "ax.plot(loss_H)"
   ]
  },
  {
   "cell_type": "markdown",
   "metadata": {},
   "source": [
    "__Task__\n",
    "- What happens to performance by training a more complex model? \n",
    "- How does perfomance change as the complexity of the model increases (e.g., if you add more layers, or use wider hidden layers)?\n",
    "- Do training and test performance change differently, as model complexity increases?'\n",
    "\n",
    "\n"
   ]
  },
  {
   "cell_type": "code",
   "execution_count": 42,
   "metadata": {},
   "outputs": [],
   "source": [
    "# What happens to performance by training a more complex model? \n",
    "## The more complex model performs better on the training data but worse on the test data. This is a sign of overfitting.\n"
   ]
  },
  {
   "cell_type": "markdown",
   "metadata": {},
   "source": [
    "__Bonus task__ [advanced]: \n",
    "\n",
    "Note that we have implemented classifiers using counts as inputs, but we could be doing the same thing using the average of Word2Vec vectors for all words in each target sentence. If you run out of things to do and your are very proficient in Python, you can try implement this approach!"
   ]
  },
  {
   "cell_type": "code",
   "execution_count": null,
   "metadata": {},
   "outputs": [],
   "source": [
    "# Import libraries\n",
    "import torch\n",
    "import torch.nn as nn\n",
    "import torch.nn.functional as F\n",
    "import torch.optim as optim\n",
    "\n",
    "torch.manual_seed(1)\n",
    "\n",
    "# Define the model"
   ]
  },
  {
   "cell_type": "markdown",
   "metadata": {},
   "source": []
  }
 ],
 "metadata": {
  "kernelspec": {
   "display_name": "nlp_course_venv",
   "language": "python",
   "name": "python3"
  },
  "language_info": {
   "codemirror_mode": {
    "name": "ipython",
    "version": 3
   },
   "file_extension": ".py",
   "mimetype": "text/x-python",
   "name": "python",
   "nbconvert_exporter": "python",
   "pygments_lexer": "ipython3",
   "version": "3.9.6"
  }
 },
 "nbformat": 4,
 "nbformat_minor": 4
}
